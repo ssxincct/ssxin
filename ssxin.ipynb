{
  "nbformat": 4,
  "nbformat_minor": 0,
  "metadata": {
    "colab": {
      "provenance": []
    },
    "kernelspec": {
      "name": "python3",
      "display_name": "Python 3"
    },
    "language_info": {
      "name": "python"
    }
  },
  "cells": [
    {
      "cell_type": "code",
      "execution_count": 1,
      "metadata": {
        "id": "In80V40iklHQ",
        "outputId": "9a404104-a41d-4aaf-964f-bc5edb12845b",
        "colab": {
          "base_uri": "https://localhost:8080/"
        }
      },
      "outputs": [
        {
          "output_type": "stream",
          "name": "stdout",
          "text": [
            "Writing myfirstapp.py\n"
          ]
        }
      ],
      "source": [
        "%%writefile myfirstapp.py\n",
        "import streamlit as st\n",
        "import numpy as np\n",
        "import pandas as pd\n",
        "\n",
        "st.header(\"My first Streamlit App\")\n",
        "st.write(pd.DataFrame({\n",
        "    'Intplan': ['yes', 'yes', 'yes', 'no'],\n",
        "    'Churn Status': [0, 0, 0, 1]\n",
        "}))"
      ]
    }
  ]
}